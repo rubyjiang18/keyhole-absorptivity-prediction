{
 "cells": [
  {
   "cell_type": "markdown",
   "metadata": {},
   "source": [
    "Goals: preprocessing images for DL train, val, and test\n",
    "1. synchrotronize x-ray images and corresponding laser absorptivity, this has to be done individually for each folder, 4+1 in total, we also need to select the frames we need to avoide too many 0 absorption frames\n",
    "2. mimic CUB_200_2011, creat images.txt, labels.txt, train_test_split.txt"
   ]
  },
  {
   "cell_type": "code",
   "execution_count": 105,
   "metadata": {},
   "outputs": [],
   "source": [
    "import glob\n",
    "import pandas as pd\n",
    "import matplotlib.pyplot as plt"
   ]
  },
  {
   "cell_type": "markdown",
   "metadata": {},
   "source": [
    "### step 1: synchrotronize to generate labels"
   ]
  },
  {
   "cell_type": "code",
   "execution_count": 122,
   "metadata": {},
   "outputs": [
    {
     "data": {
      "text/plain": [
       "['/Users/rubyjiang/Desktop/KA_raw_data/NIST_SW_raw_images/014_CW22_CalibratedAbsorptionData.csv',\n",
       " '/Users/rubyjiang/Desktop/KA_raw_data/NIST_SW_raw_images/018_CW24_CalibratedAbsorptionData.csv',\n",
       " '/Users/rubyjiang/Desktop/KA_raw_data/NIST_SW_raw_images/021_CW28_CalibratedAbsorptionData.csv',\n",
       " '/Users/rubyjiang/Desktop/KA_raw_data/NIST_SW_raw_images/022_CW35_CalibratedAbsorptionData.csv']"
      ]
     },
     "execution_count": 122,
     "metadata": {},
     "output_type": "execute_result"
    }
   ],
   "source": [
    "path = '/Users/rubyjiang/Desktop/KA_raw_data/NIST_SW_raw_images'\n",
    "# All files and directories ending with .csv and that don't begin with a dot:\n",
    "all_csv_path = sorted(glob.glob(path+\"/*Data.csv\"))\n",
    "all_csv_path"
   ]
  },
  {
   "cell_type": "code",
   "execution_count": 123,
   "metadata": {},
   "outputs": [],
   "source": [
    "def synchrotronize(one_csv_path, out_name):\n",
    "    df = pd.read_csv(one_csv_path)\n",
    "    # drop first row of units\n",
    "    df = df.iloc[1: , :] \n",
    "    \n",
    "    df = df.astype({'Time':'float',\n",
    "                    'InputLaser':'float',\n",
    "                    'AbsoluteAbsorption':'float', \n",
    "                    'RelativeAbsorption':'float', \n",
    "                    'FrameNumber':'int'})\n",
    "    \n",
    "    df = df[df['FrameNumber']!=0]\n",
    "    print('nonzero row', len(df))\n",
    "    # output frame number (start from 1) and relative absorption\n",
    "    df = df[df['FrameNumber']!=0].reset_index()\n",
    "    # output frame number (start from 1) and relative absorption\n",
    "    df_out = df[['FrameNumber','RelativeAbsorption']]\n",
    "    df_out.to_csv(out_name+'.csv', index=False)\n",
    "    return df_out"
   ]
  },
  {
   "cell_type": "code",
   "execution_count": 125,
   "metadata": {},
   "outputs": [
    {
     "name": "stdout",
     "output_type": "stream",
     "text": [
      "nonzero row 227\n",
      "nonzero row 233\n",
      "nonzero row 233\n",
      "nonzero row 233\n"
     ]
    }
   ],
   "source": [
    "out_name_list =['CW_P22_labels','CW_P24_labels', 'CW_P28_labels','CW_P35_labels']\n",
    "\n",
    "for i in range(4):\n",
    "    synchrotronize(all_csv_path[i], out_name_list[i])"
   ]
  },
  {
   "cell_type": "markdown",
   "metadata": {},
   "source": [
    "### Step 2: for each folder of images, first 233 images and divided by the first image for bkg removal"
   ]
  },
  {
   "cell_type": "code",
   "execution_count": 69,
   "metadata": {},
   "outputs": [],
   "source": [
    "import cv2 as cv\n",
    "import numpy as np\n",
    "import matplotlib.pyplot as plt\n",
    "import os\n",
    "from skimage import io, img_as_float, img_as_ubyte, exposure\n",
    "from os.path import isfile, join\n",
    "import os.path, sys\n",
    "import re\n",
    "\n",
    "import glob\n",
    "\n",
    "%matplotlib notebook"
   ]
  },
  {
   "cell_type": "code",
   "execution_count": 76,
   "metadata": {},
   "outputs": [],
   "source": [
    "from ipywidgets import interact\n",
    "\n",
    "%matplotlib notebook\n",
    "\n",
    "def atoi(text):\n",
    "    return int(text) if text.isdigit() else text\n",
    "\n",
    "def natural_keys(text):\n",
    "    return [ atoi(c) for c in re.split(r'(\\d+)', text) ]\n",
    "\n",
    "def autoscale(array, percentile):\n",
    "    value = np.percentile(np.ndarray.flatten(array), percentile)\n",
    "    return value"
   ]
  },
  {
   "cell_type": "code",
   "execution_count": 70,
   "metadata": {},
   "outputs": [],
   "source": [
    "my_list = os.listdir(path)"
   ]
  },
  {
   "cell_type": "code",
   "execution_count": 71,
   "metadata": {},
   "outputs": [
    {
     "data": {
      "text/plain": [
       "['.DS_Store',\n",
       " '022_Ti64_P35t2047us_S2F2.8mm_U18G12',\n",
       " '014_Ti64_P22t2080us_S2F2.8mm_U18G12',\n",
       " '022_CW35_CalibratedAbsorptionData.csv',\n",
       " '021_CW28_CalibratedAbsorptionData.csv',\n",
       " '018_Ti64_P24t2075us_S2F2.8mm_U18G12',\n",
       " '021_Ti64_P28t2065us_S2F2.8mm_U18G12',\n",
       " '018_CW24_CalibratedAbsorptionData.csv',\n",
       " '014_CW22_CalibratedAbsorptionData.csv',\n",
       " '220530_Data for CMU.txt']"
      ]
     },
     "execution_count": 71,
     "metadata": {},
     "output_type": "execute_result"
    }
   ],
   "source": [
    "my_list"
   ]
  },
  {
   "cell_type": "code",
   "execution_count": 127,
   "metadata": {},
   "outputs": [
    {
     "data": {
      "text/plain": [
       "['/Users/rubyjiang/Desktop/KA_raw_data/NIST_SW_raw_images/014_Ti64_P22t2080us_S2F2.8mm_U18G12',\n",
       " '/Users/rubyjiang/Desktop/KA_raw_data/NIST_SW_raw_images/018_Ti64_P24t2075us_S2F2.8mm_U18G12',\n",
       " '/Users/rubyjiang/Desktop/KA_raw_data/NIST_SW_raw_images/021_Ti64_P28t2065us_S2F2.8mm_U18G12',\n",
       " '/Users/rubyjiang/Desktop/KA_raw_data/NIST_SW_raw_images/022_Ti64_P35t2047us_S2F2.8mm_U18G12']"
      ]
     },
     "execution_count": 127,
     "metadata": {},
     "output_type": "execute_result"
    }
   ],
   "source": [
    "all_image_path = sorted([path+'/'+p for p in my_list if 'U18G12' in p])\n",
    "all_image_path"
   ]
  },
  {
   "cell_type": "code",
   "execution_count": 128,
   "metadata": {},
   "outputs": [],
   "source": [
    "folder_name_list = ['CW_P22_processed','CW_P24_processed', 'CW_P28_processed','CW_P35_processed']\n",
    "\n",
    "\n",
    "for i in range(4):\n",
    "    folder_name = folder_name_list[i]\n",
    "    image_path = all_image_path[i]\n",
    "    generate_process_images(image_path, folder_name)"
   ]
  },
  {
   "cell_type": "code",
   "execution_count": 126,
   "metadata": {},
   "outputs": [],
   "source": [
    "\n",
    "def generate_process_images(image_path, folder_name):\n",
    "    image_list = []\n",
    "    for filename in sorted(glob.glob(image_path+'/*.tif'), key=natural_keys): \n",
    "        #print(filename)\n",
    "        im = cv.imread(filename, cv.IMREAD_UNCHANGED)\n",
    "        image_list.append(im)\n",
    "    # crop to 300 x 300\n",
    "    image_list = [im[0:350, 90:390+50] for im in image_list]\n",
    "    # remove background\n",
    "    bkg = image_list[0]\n",
    "    image_list = [im/bkg for im in image_list]\n",
    "    # norm back to [0,255]\n",
    "    image_list = [cv.normalize(im,None, alpha=0, beta=255, norm_type=cv.NORM_MINMAX, dtype = cv.CV_8U) for im in image_list]\n",
    "    #take the first 233\n",
    "    if folder_name == 'CW_P22_processed':\n",
    "        image_list = image_list[:227]\n",
    "    else: \n",
    "        image_list = image_list[:233]\n",
    "    # mkdr and save images: folder name: CW22_processed\n",
    "    # Create a folder\n",
    "    processed_path = path + '/' + folder_name + '/'\n",
    "    try:\n",
    "        os.makedirs(processed_path)\n",
    "    except FileExistsError:\n",
    "        pass\n",
    "    # name conventions: CW22_frame_001.tif\n",
    "    i = 1\n",
    "    for image in image_list:   \n",
    "        if i<10:\n",
    "            name = folder_name + '_frame00' + str(i) + '.tif'\n",
    "        elif i<100: \n",
    "            name = folder_name + '_frame0' + str(i) + '.tif'\n",
    "        else:\n",
    "            name = folder_name + '_frame' + str(i) + '.tif'\n",
    "        i +=1   \n",
    "        cv.imwrite(processed_path + '/' + name, image)"
   ]
  },
  {
   "cell_type": "code",
   "execution_count": 83,
   "metadata": {},
   "outputs": [
    {
     "data": {
      "text/plain": [
       "(600, 640)"
      ]
     },
     "execution_count": 83,
     "metadata": {},
     "output_type": "execute_result"
    }
   ],
   "source": [
    "image_list[0].shape"
   ]
  },
  {
   "cell_type": "code",
   "execution_count": 94,
   "metadata": {},
   "outputs": [
    {
     "data": {
      "text/plain": [
       "(300, 300)"
      ]
     },
     "execution_count": 94,
     "metadata": {},
     "output_type": "execute_result"
    }
   ],
   "source": [
    "image_list[0][0:300, 90:390].shape"
   ]
  },
  {
   "cell_type": "markdown",
   "metadata": {},
   "source": [
    "## Step 3: merge all the four files into one "
   ]
  },
  {
   "cell_type": "markdown",
   "metadata": {},
   "source": [
    "## Step 4: split train and val and record the index\n",
    "\n"
   ]
  },
  {
   "cell_type": "code",
   "execution_count": 137,
   "metadata": {},
   "outputs": [
    {
     "data": {
      "text/html": [
       "<div>\n",
       "<style scoped>\n",
       "    .dataframe tbody tr th:only-of-type {\n",
       "        vertical-align: middle;\n",
       "    }\n",
       "\n",
       "    .dataframe tbody tr th {\n",
       "        vertical-align: top;\n",
       "    }\n",
       "\n",
       "    .dataframe thead tr th {\n",
       "        text-align: left;\n",
       "    }\n",
       "</style>\n",
       "<table border=\"1\" class=\"dataframe\">\n",
       "  <thead>\n",
       "    <tr>\n",
       "      <th></th>\n",
       "      <th>relative_absorption</th>\n",
       "    </tr>\n",
       "  </thead>\n",
       "  <tbody>\n",
       "    <tr>\n",
       "      <th>0</th>\n",
       "      <td>0.402850</td>\n",
       "    </tr>\n",
       "    <tr>\n",
       "      <th>1</th>\n",
       "      <td>0.446961</td>\n",
       "    </tr>\n",
       "    <tr>\n",
       "      <th>2</th>\n",
       "      <td>-0.968159</td>\n",
       "    </tr>\n",
       "    <tr>\n",
       "      <th>3</th>\n",
       "      <td>-0.282654</td>\n",
       "    </tr>\n",
       "    <tr>\n",
       "      <th>4</th>\n",
       "      <td>0.371854</td>\n",
       "    </tr>\n",
       "  </tbody>\n",
       "</table>\n",
       "</div>"
      ],
      "text/plain": [
       "  relative_absorption\n",
       "0            0.402850\n",
       "1            0.446961\n",
       "2           -0.968159\n",
       "3           -0.282654\n",
       "4            0.371854"
      ]
     },
     "execution_count": 137,
     "metadata": {},
     "output_type": "execute_result"
    }
   ],
   "source": [
    "labels_path = \"/Users/rubyjiang/Desktop/KA_raw_data/merged_labels.csv\"\n",
    "df = pd.read_csv(labels_path, header=None)\n",
    "df.columns = [['relative_absorption']]\n",
    "df.head()"
   ]
  },
  {
   "cell_type": "code",
   "execution_count": 138,
   "metadata": {},
   "outputs": [
    {
     "data": {
      "text/plain": [
       "926"
      ]
     },
     "execution_count": 138,
     "metadata": {},
     "output_type": "execute_result"
    }
   ],
   "source": [
    "len(df)"
   ]
  },
  {
   "cell_type": "markdown",
   "metadata": {},
   "source": [
    "#### 4.1 Generate train (1) and val (0) index"
   ]
  },
  {
   "cell_type": "code",
   "execution_count": 164,
   "metadata": {},
   "outputs": [],
   "source": [
    "import random\n",
    "random.seed(2022)\n",
    "df['train_val_idx'] = [int(np.where(random.random()<=0.8, 1, 0)) for i in range(len(df))]\n",
    "\n",
    "# train_idx = np.sort(random.sample(range(0, 227), 200)) # pay attentio to the second number\n",
    "# #test_idx = np.sort(random.sample(range(0, 227), 27))\n",
    "# test_idx = np.sort([i for i in range(227) if i not in train_idx])\n",
    "# split_idx = (train_idx, test_idx)"
   ]
  },
  {
   "cell_type": "code",
   "execution_count": 173,
   "metadata": {},
   "outputs": [
    {
     "data": {
      "text/plain": [
       "(train_val_idx,)\n",
       "1                   758\n",
       "0                   168\n",
       "dtype: int64"
      ]
     },
     "execution_count": 173,
     "metadata": {},
     "output_type": "execute_result"
    }
   ],
   "source": [
    "df['train_val_idx'].value_counts()"
   ]
  },
  {
   "cell_type": "code",
   "execution_count": 175,
   "metadata": {},
   "outputs": [
    {
     "data": {
      "text/plain": [
       "18.14254859611231"
      ]
     },
     "execution_count": 175,
     "metadata": {},
     "output_type": "execute_result"
    }
   ],
   "source": [
    "168 * 100 / len(df)"
   ]
  },
  {
   "cell_type": "code",
   "execution_count": 176,
   "metadata": {},
   "outputs": [
    {
     "data": {
      "text/html": [
       "<div>\n",
       "<style scoped>\n",
       "    .dataframe tbody tr th:only-of-type {\n",
       "        vertical-align: middle;\n",
       "    }\n",
       "\n",
       "    .dataframe tbody tr th {\n",
       "        vertical-align: top;\n",
       "    }\n",
       "\n",
       "    .dataframe thead tr th {\n",
       "        text-align: left;\n",
       "    }\n",
       "</style>\n",
       "<table border=\"1\" class=\"dataframe\">\n",
       "  <thead>\n",
       "    <tr>\n",
       "      <th></th>\n",
       "      <th>relative_absorption</th>\n",
       "      <th>train_val_idx</th>\n",
       "    </tr>\n",
       "  </thead>\n",
       "  <tbody>\n",
       "    <tr>\n",
       "      <th>0</th>\n",
       "      <td>0.402850</td>\n",
       "      <td>1</td>\n",
       "    </tr>\n",
       "    <tr>\n",
       "      <th>1</th>\n",
       "      <td>0.446961</td>\n",
       "      <td>1</td>\n",
       "    </tr>\n",
       "    <tr>\n",
       "      <th>2</th>\n",
       "      <td>-0.968159</td>\n",
       "      <td>1</td>\n",
       "    </tr>\n",
       "    <tr>\n",
       "      <th>3</th>\n",
       "      <td>-0.282654</td>\n",
       "      <td>1</td>\n",
       "    </tr>\n",
       "    <tr>\n",
       "      <th>4</th>\n",
       "      <td>0.371854</td>\n",
       "      <td>1</td>\n",
       "    </tr>\n",
       "  </tbody>\n",
       "</table>\n",
       "</div>"
      ],
      "text/plain": [
       "  relative_absorption train_val_idx\n",
       "0            0.402850             1\n",
       "1            0.446961             1\n",
       "2           -0.968159             1\n",
       "3           -0.282654             1\n",
       "4            0.371854             1"
      ]
     },
     "execution_count": 176,
     "metadata": {},
     "output_type": "execute_result"
    }
   ],
   "source": [
    "df.head()"
   ]
  },
  {
   "cell_type": "markdown",
   "metadata": {},
   "source": [
    "#### 4.2 to check the balance of the dataset"
   ]
  },
  {
   "cell_type": "code",
   "execution_count": 180,
   "metadata": {},
   "outputs": [
    {
     "data": {
      "text/html": [
       "<div>\n",
       "<style scoped>\n",
       "    .dataframe tbody tr th:only-of-type {\n",
       "        vertical-align: middle;\n",
       "    }\n",
       "\n",
       "    .dataframe tbody tr th {\n",
       "        vertical-align: top;\n",
       "    }\n",
       "\n",
       "    .dataframe thead tr th {\n",
       "        text-align: left;\n",
       "    }\n",
       "</style>\n",
       "<table border=\"1\" class=\"dataframe\">\n",
       "  <thead>\n",
       "    <tr>\n",
       "      <th></th>\n",
       "      <th>balance</th>\n",
       "    </tr>\n",
       "  </thead>\n",
       "  <tbody>\n",
       "    <tr>\n",
       "      <th>0</th>\n",
       "      <td>0</td>\n",
       "    </tr>\n",
       "    <tr>\n",
       "      <th>1</th>\n",
       "      <td>0</td>\n",
       "    </tr>\n",
       "    <tr>\n",
       "      <th>2</th>\n",
       "      <td>0</td>\n",
       "    </tr>\n",
       "    <tr>\n",
       "      <th>3</th>\n",
       "      <td>0</td>\n",
       "    </tr>\n",
       "    <tr>\n",
       "      <th>4</th>\n",
       "      <td>0</td>\n",
       "    </tr>\n",
       "    <tr>\n",
       "      <th>...</th>\n",
       "      <td>...</td>\n",
       "    </tr>\n",
       "    <tr>\n",
       "      <th>921</th>\n",
       "      <td>0</td>\n",
       "    </tr>\n",
       "    <tr>\n",
       "      <th>922</th>\n",
       "      <td>0</td>\n",
       "    </tr>\n",
       "    <tr>\n",
       "      <th>923</th>\n",
       "      <td>0</td>\n",
       "    </tr>\n",
       "    <tr>\n",
       "      <th>924</th>\n",
       "      <td>0</td>\n",
       "    </tr>\n",
       "    <tr>\n",
       "      <th>925</th>\n",
       "      <td>0</td>\n",
       "    </tr>\n",
       "  </tbody>\n",
       "</table>\n",
       "<p>926 rows × 1 columns</p>\n",
       "</div>"
      ],
      "text/plain": [
       "    balance\n",
       "0         0\n",
       "1         0\n",
       "2         0\n",
       "3         0\n",
       "4         0\n",
       "..      ...\n",
       "921       0\n",
       "922       0\n",
       "923       0\n",
       "924       0\n",
       "925       0\n",
       "\n",
       "[926 rows x 1 columns]"
      ]
     },
     "execution_count": 180,
     "metadata": {},
     "output_type": "execute_result"
    }
   ],
   "source": [
    "balance_df = df.copy()\n",
    "balance_df['balance'] = np.where(balance_df['relative_absorption']<5, 0, 1)\n",
    "balance_df['balance'] "
   ]
  },
  {
   "cell_type": "code",
   "execution_count": 181,
   "metadata": {},
   "outputs": [
    {
     "data": {
      "text/plain": [
       "(balance,)\n",
       "0             522\n",
       "1             404\n",
       "dtype: int64"
      ]
     },
     "execution_count": 181,
     "metadata": {},
     "output_type": "execute_result"
    }
   ],
   "source": [
    "balance_df['balance'].value_counts()"
   ]
  },
  {
   "cell_type": "code",
   "execution_count": 182,
   "metadata": {},
   "outputs": [
    {
     "data": {
      "text/html": [
       "<div>\n",
       "<style scoped>\n",
       "    .dataframe tbody tr th:only-of-type {\n",
       "        vertical-align: middle;\n",
       "    }\n",
       "\n",
       "    .dataframe tbody tr th {\n",
       "        vertical-align: top;\n",
       "    }\n",
       "\n",
       "    .dataframe thead tr th {\n",
       "        text-align: left;\n",
       "    }\n",
       "</style>\n",
       "<table border=\"1\" class=\"dataframe\">\n",
       "  <thead>\n",
       "    <tr>\n",
       "      <th></th>\n",
       "      <th>relative_absorption</th>\n",
       "      <th>train_val_idx</th>\n",
       "    </tr>\n",
       "  </thead>\n",
       "  <tbody>\n",
       "    <tr>\n",
       "      <th>0</th>\n",
       "      <td>0.402850</td>\n",
       "      <td>1</td>\n",
       "    </tr>\n",
       "    <tr>\n",
       "      <th>1</th>\n",
       "      <td>0.446961</td>\n",
       "      <td>1</td>\n",
       "    </tr>\n",
       "    <tr>\n",
       "      <th>2</th>\n",
       "      <td>-0.968159</td>\n",
       "      <td>1</td>\n",
       "    </tr>\n",
       "    <tr>\n",
       "      <th>3</th>\n",
       "      <td>-0.282654</td>\n",
       "      <td>1</td>\n",
       "    </tr>\n",
       "    <tr>\n",
       "      <th>4</th>\n",
       "      <td>0.371854</td>\n",
       "      <td>1</td>\n",
       "    </tr>\n",
       "  </tbody>\n",
       "</table>\n",
       "</div>"
      ],
      "text/plain": [
       "  relative_absorption train_val_idx\n",
       "0            0.402850             1\n",
       "1            0.446961             1\n",
       "2           -0.968159             1\n",
       "3           -0.282654             1\n",
       "4            0.371854             1"
      ]
     },
     "execution_count": 182,
     "metadata": {},
     "output_type": "execute_result"
    }
   ],
   "source": [
    "df.head()"
   ]
  },
  {
   "cell_type": "code",
   "execution_count": 183,
   "metadata": {},
   "outputs": [],
   "source": [
    "df.to_csv('final_labels_and_split.csv', index=False)"
   ]
  },
  {
   "cell_type": "code",
   "execution_count": null,
   "metadata": {},
   "outputs": [],
   "source": []
  }
 ],
 "metadata": {
  "kernelspec": {
   "display_name": "Python 3",
   "language": "python",
   "name": "python3"
  },
  "language_info": {
   "codemirror_mode": {
    "name": "ipython",
    "version": 3
   },
   "file_extension": ".py",
   "mimetype": "text/x-python",
   "name": "python",
   "nbconvert_exporter": "python",
   "pygments_lexer": "ipython3",
   "version": "3.8.5"
  }
 },
 "nbformat": 4,
 "nbformat_minor": 4
}
